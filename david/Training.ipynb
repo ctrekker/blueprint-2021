{
 "cells": [
  {
   "cell_type": "code",
   "execution_count": 2,
   "id": "touched-modeling",
   "metadata": {
    "tags": []
   },
   "outputs": [],
   "source": [
    "from tensorflow import keras\n",
    "from keras import layers\n",
    "from keras.datasets import mnist\n",
    "import numpy as np\n",
    "import matplotlib.pyplot as plt\n",
    "import soundfile as sf\n",
    "import librosa as librosa\n",
    "import librosa.display\n",
    "import IPython.display as ipd"
   ]
  },
  {
   "cell_type": "code",
   "execution_count": 3,
   "id": "interracial-quick",
   "metadata": {},
   "outputs": [],
   "source": [
    "\n",
    "input_audio = keras.Input(shape =(28,28,1))\n",
    "\n",
    "x = layers.Conv2D(16,(3,3), activation ='relu', padding = 'same')(input_audio)\n",
    "x = layers.MaxPooling2D((2,2), padding = 'same')(x)\n",
    "x = layers.Conv2D(8,(3,3), activation = 'relu', padding = 'same')(x)\n",
    "x = layers.MaxPooling2D((2,2), padding = 'same')(x)\n",
    "x = layers.Conv2D(8,(3,3), activation = 'relu', padding = 'same')(x)\n",
    "encoded = layers.MaxPooling2D((2,2), padding = 'same')(x)\n",
    "\n",
    "x = layers.Conv2D(8,(3,3), activation ='relu', padding = 'same')(encoded)\n",
    "x = layers.UpSampling2D((2,2))(x)\n",
    "x = layers.Conv2D(8,(3,3), activation ='relu', padding = 'same')(x)\n",
    "x = layers.UpSampling2D((2,2))(x)\n",
    "x = layers.Conv2D(16,(3,3), activation = 'relu')(x)\n",
    "x = layers.UpSampling2D((2,2))(x)\n",
    "decoded = layers.Conv2D(1,(3,3), activation = 'sigmoid', padding = 'same')(x)\n",
    "\n",
    "autoencoder = keras.Model(input_audio, decoded)"
   ]
  },
  {
   "cell_type": "code",
   "execution_count": 15,
   "id": "comparative-briefing",
   "metadata": {},
   "outputs": [],
   "source": [
    "encoded = keras.Model(input_audio, encoded)"
   ]
  },
  {
   "cell_type": "code",
   "execution_count": 16,
   "id": "harmful-catholic",
   "metadata": {
    "tags": []
   },
   "outputs": [
    {
     "name": "stdout",
     "output_type": "stream",
     "text": [
      "Model: \"model_1\"\n",
      "_________________________________________________________________\n",
      "Layer (type)                 Output Shape              Param #   \n",
      "=================================================================\n",
      "input_1 (InputLayer)         [(None, 28, 28, 1)]       0         \n",
      "_________________________________________________________________\n",
      "conv2d (Conv2D)              (None, 28, 28, 16)        160       \n",
      "_________________________________________________________________\n",
      "max_pooling2d (MaxPooling2D) (None, 14, 14, 16)        0         \n",
      "_________________________________________________________________\n",
      "conv2d_1 (Conv2D)            (None, 14, 14, 8)         1160      \n",
      "_________________________________________________________________\n",
      "max_pooling2d_1 (MaxPooling2 (None, 7, 7, 8)           0         \n",
      "_________________________________________________________________\n",
      "conv2d_2 (Conv2D)            (None, 7, 7, 8)           584       \n",
      "_________________________________________________________________\n",
      "max_pooling2d_2 (MaxPooling2 (None, 4, 4, 8)           0         \n",
      "=================================================================\n",
      "Total params: 1,904\n",
      "Trainable params: 1,904\n",
      "Non-trainable params: 0\n",
      "_________________________________________________________________\n"
     ]
    },
    {
     "data": {
      "text/plain": [
       "(10000, 28, 28, 1)"
      ]
     },
     "execution_count": 16,
     "metadata": {},
     "output_type": "execute_result"
    }
   ],
   "source": [
    "encoded.summary()\n",
    "x_test.shape"
   ]
  },
  {
   "cell_type": "code",
   "execution_count": 5,
   "id": "suited-shopper",
   "metadata": {},
   "outputs": [],
   "source": [
    "autoencoder.compile(optimizer='adam', loss = 'binary_crossentropy')"
   ]
  },
  {
   "cell_type": "code",
   "execution_count": 6,
   "id": "designing-priority",
   "metadata": {},
   "outputs": [],
   "source": [
    "(x_train, _), (x_test,_) = mnist.load_data()\n",
    "x_train = x_train.astype('float32')/255\n",
    "x_test = x_test.astype('float32')/255\n",
    "x_train = np.reshape(x_train, (len(x_train),28,28,1))\n",
    "x_test = np.reshape(x_test, (len(x_test), 28,28,1))\n",
    "y_train = np.copy(x_train)\n",
    "x_train += np.random.rand(*x_train.shape)*.7\n",
    "x_train = np.minimum(x_train, 1)"
   ]
  },
  {
   "cell_type": "code",
   "execution_count": 7,
   "id": "isolated-terrain",
   "metadata": {
    "tags": []
   },
   "outputs": [
    {
     "name": "stdout",
     "output_type": "stream",
     "text": [
      "Epoch 1/10\n",
      "469/469 [==============================] - 21s 43ms/step - loss: 0.3800 - val_loss: 0.3388\n",
      "Epoch 2/10\n",
      "469/469 [==============================] - 20s 43ms/step - loss: 0.1875 - val_loss: 0.4519\n",
      "Epoch 3/10\n",
      "469/469 [==============================] - 20s 43ms/step - loss: 0.1692 - val_loss: 0.5503\n",
      "Epoch 4/10\n",
      "469/469 [==============================] - 20s 42ms/step - loss: 0.1597 - val_loss: 0.5458\n",
      "Epoch 5/10\n",
      "469/469 [==============================] - 20s 43ms/step - loss: 0.1543 - val_loss: 0.4936\n",
      "Epoch 6/10\n",
      "469/469 [==============================] - 20s 43ms/step - loss: 0.1506 - val_loss: 0.5134\n",
      "Epoch 7/10\n",
      "469/469 [==============================] - 20s 42ms/step - loss: 0.1471 - val_loss: 0.4662\n",
      "Epoch 8/10\n",
      "469/469 [==============================] - 20s 43ms/step - loss: 0.1442 - val_loss: 0.4482\n",
      "Epoch 9/10\n",
      "469/469 [==============================] - 21s 45ms/step - loss: 0.1420 - val_loss: 0.4036\n",
      "Epoch 10/10\n",
      "469/469 [==============================] - 20s 42ms/step - loss: 0.1398 - val_loss: 0.4058\n"
     ]
    },
    {
     "data": {
      "text/plain": [
       "<tensorflow.python.keras.callbacks.History at 0x7ff8781aabe0>"
      ]
     },
     "execution_count": 7,
     "metadata": {},
     "output_type": "execute_result"
    }
   ],
   "source": [
    "from keras.callbacks import TensorBoard\n",
    "autoencoder.fit(x_train, y_train, epochs = 10, batch_size=128, shuffle=True, validation_data = (x_test, x_test))"
   ]
  },
  {
   "cell_type": "code",
   "execution_count": 8,
   "id": "boring-interval",
   "metadata": {},
   "outputs": [],
   "source": [
    "decoded_audio = autoencoder.predict(x_train)"
   ]
  },
  {
   "cell_type": "code",
   "execution_count": 23,
   "id": "ruled-syndication",
   "metadata": {
    "tags": []
   },
   "outputs": [
    {
     "data": {
      "text/plain": [
       "<function matplotlib.pyplot.show(close=None, block=None)>"
      ]
     },
     "execution_count": 23,
     "metadata": {},
     "output_type": "execute_result"
    },
    {
     "data": {
      "image/png": "[encoded data removed]",
      "text/plain": [
       "<Figure size 1440x432 with 10 Axes>"
      ]
     },
     "metadata": {
      "needs_background": "light"
     },
     "output_type": "display_data"
    }
   ],
   "source": [
    "n = 10\n",
    "plt.figure(figsize = (20,6))\n",
    "for i in range(n):\n",
    "    ax = plt.subplot(2,n,i+1)\n",
    "    plt.imshow(encoded.predict(np.array([x_train[i]])).reshape(16, 8))\n",
    "    plt.gray()\n",
    "    ax.get_xaxis().set_visible(False)\n",
    "    ax.get_yaxis().set_visible(False)\n",
    "#     ax = plt.subplot(2,n,i+1+n)\n",
    "#     plt.imshow(decoded_audio[i].reshape(28,28))\n",
    "#     plt.gray()\n",
    "#     ax.get_xaxis().set_visible(False)\n",
    "#     ax.get_yaxis().set_visible(False)\n",
    "plt.show\n",
    "    "
   ]
  },
  {
   "cell_type": "code",
   "execution_count": 22,
   "id": "sporting-console",
   "metadata": {},
   "outputs": [
    {
     "data": {
      "text/plain": [
       "(1, 4, 4, 8)"
      ]
     },
     "execution_count": 22,
     "metadata": {},
     "output_type": "execute_result"
    }
   ],
   "source": [
    "encoded.predict(np.array([x_train[i]])).shape"
   ]
  },
  {
   "cell_type": "code",
   "execution_count": 20,
   "id": "forbidden-clinic",
   "metadata": {},
   "outputs": [
    {
     "data": {
      "text/plain": [
       "(28, 28, 1)"
      ]
     },
     "execution_count": 20,
     "metadata": {},
     "output_type": "execute_result"
    }
   ],
   "source": [
    "x_train[i].shape"
   ]
  }
 ],
 "metadata": {
  "kernelspec": {
   "display_name": "Python 3",
   "language": "python",
   "name": "python3"
  },
  "language_info": {
   "codemirror_mode": {
    "name": "ipython",
    "version": 3
   },
   "file_extension": ".py",
   "mimetype": "text/x-python",
   "name": "python",
   "nbconvert_exporter": "python",
   "pygments_lexer": "ipython3",
   "version": "3.8.5"
  }
 },
 "nbformat": 4,
 "nbformat_minor": 5
}
