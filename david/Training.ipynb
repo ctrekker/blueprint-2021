{
 "cells": [
  {
   "cell_type": "code",
   "execution_count": 140,
   "id": "brave-construction",
   "metadata": {},
   "outputs": [],
   "source": [
    "from tensorflow import keras\n",
    "from keras import layers\n",
    "from keras.datasets import mnist\n",
    "import numpy as np\n",
    "import matplotlib.pyplot as plt\n",
    "import soundfile as sf\n",
    "import librosa as librosa\n",
    "import librosa.display\n",
    "import IPython.display as ipd"
   ]
  },
  {
   "cell_type": "code",
   "execution_count": 141,
   "id": "postal-coordination",
   "metadata": {},
   "outputs": [],
   "source": [
    "\n",
    "input_audio = keras.Input(shape =(28,28,1))\n",
    "\n",
    "x = layers.Conv2D(16,(3,3), activation ='relu', padding = 'same')(input_audio)\n",
    "x = layers.MaxPooling2D((2,2), padding = 'same')(x)\n",
    "x = layers.Conv2D(8,(3,3), activation = 'relu', padding = 'same')(x)\n",
    "x = layers.MaxPooling2D((2,2), padding = 'same')(x)\n",
    "x = layers.Conv2D(8,(3,3), activation = 'relu', padding = 'same')(x)\n",
    "encoded = layers.MaxPooling2D((2,2), padding = 'same')(x)\n",
    "\n",
    "x = layers.Conv2D(8,(3,3), activation ='relu', padding = 'same')(encoded)\n",
    "x = layers.UpSampling2D((2,2))(x)\n",
    "x = layers.Conv2D(8,(3,3), activation ='relu', padding = 'same')(x)\n",
    "x = layers.UpSampling2D((2,2))(x)\n",
    "x = layers.Conv2D(16,(3,3), activation = 'relu')(x)\n",
    "x = layers.UpSampling2D((2,2))(x)\n",
    "decoded = layers.Conv2D(1,(3,3), activation = 'sigmoid', padding = 'same')(x)\n",
    "\n",
    "autoencoder = keras.Model(input_audio, decoded)"
   ]
  },
  {
   "cell_type": "code",
   "execution_count": 142,
   "id": "colored-settlement",
   "metadata": {
    "tags": []
   },
   "outputs": [
    {
     "name": "stdout",
     "output_type": "stream",
     "text": [
      "Model: \"model_10\"\n",
      "_________________________________________________________________\n",
      "Layer (type)                 Output Shape              Param #   \n",
      "=================================================================\n",
      "input_14 (InputLayer)        [(None, 28, 28, 1)]       0         \n",
      "_________________________________________________________________\n",
      "conv2d_31 (Conv2D)           (None, 28, 28, 16)        160       \n",
      "_________________________________________________________________\n",
      "max_pooling2d_15 (MaxPooling (None, 14, 14, 16)        0         \n",
      "_________________________________________________________________\n",
      "conv2d_32 (Conv2D)           (None, 14, 14, 8)         1160      \n",
      "_________________________________________________________________\n",
      "max_pooling2d_16 (MaxPooling (None, 7, 7, 8)           0         \n",
      "_________________________________________________________________\n",
      "conv2d_33 (Conv2D)           (None, 7, 7, 8)           584       \n",
      "_________________________________________________________________\n",
      "max_pooling2d_17 (MaxPooling (None, 4, 4, 8)           0         \n",
      "_________________________________________________________________\n",
      "conv2d_34 (Conv2D)           (None, 4, 4, 8)           584       \n",
      "_________________________________________________________________\n",
      "up_sampling2d_11 (UpSampling (None, 8, 8, 8)           0         \n",
      "_________________________________________________________________\n",
      "conv2d_35 (Conv2D)           (None, 8, 8, 8)           584       \n",
      "_________________________________________________________________\n",
      "up_sampling2d_12 (UpSampling (None, 16, 16, 8)         0         \n",
      "_________________________________________________________________\n",
      "conv2d_36 (Conv2D)           (None, 14, 14, 16)        1168      \n",
      "_________________________________________________________________\n",
      "up_sampling2d_13 (UpSampling (None, 28, 28, 16)        0         \n",
      "_________________________________________________________________\n",
      "conv2d_37 (Conv2D)           (None, 28, 28, 1)         145       \n",
      "=================================================================\n",
      "Total params: 4,385\n",
      "Trainable params: 4,385\n",
      "Non-trainable params: 0\n",
      "_________________________________________________________________\n"
     ]
    },
    {
     "data": {
      "text/plain": [
       "(10000, 28, 28, 1)"
      ]
     },
     "execution_count": 142,
     "metadata": {},
     "output_type": "execute_result"
    }
   ],
   "source": [
    "autoencoder.summary()\n",
    "x_test.shape"
   ]
  },
  {
   "cell_type": "code",
   "execution_count": 143,
   "id": "promotional-conspiracy",
   "metadata": {},
   "outputs": [],
   "source": [
    "autoencoder.compile(optimizer='adam', loss = 'binary_crossentropy')"
   ]
  },
  {
   "cell_type": "code",
   "execution_count": 144,
   "id": "better-geology",
   "metadata": {},
   "outputs": [],
   "source": [
    "(x_train, _), (x_test,_) = mnist.load_data()\n",
    "x_train = x_train.astype('float32')/255\n",
    "x_test = x_test.astype('float32')/255\n",
    "x_train = np.reshape(x_train, (len(x_train),28,28,1))\n",
    "x_test = np.reshape(x_test, (len(x_test), 28,28,1))\n",
    "y_train = np.copy(x_train)\n",
    "x_train += np.random.rand(*x_train.shape)*.7\n",
    "x_train = np.minimum(x_train, 1)"
   ]
  },
  {
   "cell_type": "code",
   "execution_count": 149,
   "id": "attended-cliff",
   "metadata": {},
   "outputs": [
    {
     "name": "stdout",
     "output_type": "stream",
     "text": [
      "Epoch 1/5\n",
      "469/469 [==============================] - 28s 60ms/step - loss: 0.1161 - val_loss: 0.1462\n",
      "Epoch 2/5\n",
      "469/469 [==============================] - 29s 61ms/step - loss: 0.1147 - val_loss: 0.1402\n",
      "Epoch 3/5\n",
      "469/469 [==============================] - 29s 61ms/step - loss: 0.1137 - val_loss: 0.1346\n",
      "Epoch 4/5\n",
      "469/469 [==============================] - 30s 64ms/step - loss: 0.1128 - val_loss: 0.1357\n",
      "Epoch 5/5\n",
      "469/469 [==============================] - 29s 62ms/step - loss: 0.1119 - val_loss: 0.1299\n"
     ]
    },
    {
     "data": {
      "text/plain": [
       "<tensorflow.python.keras.callbacks.History at 0x7f88678a6940>"
      ]
     },
     "execution_count": 149,
     "metadata": {},
     "output_type": "execute_result"
    }
   ],
   "source": [
    "from keras.callbacks import TensorBoard\n",
    "autoencoder.fit(x_train, y_train, epochs = 5, batch_size=128, shuffle=True, validation_data = (x_test, x_test))"
   ]
  },
  {
   "cell_type": "code",
   "execution_count": 150,
   "id": "leading-floor",
   "metadata": {},
   "outputs": [],
   "source": [
    "decoded_audio = autoencoder.predict(x_train)"
   ]
  },
  {
   "cell_type": "code",
   "execution_count": 151,
   "id": "narrative-representation",
   "metadata": {
    "tags": []
   },
   "outputs": [
    {
     "data": {
      "text/plain": [
       "<function matplotlib.pyplot.show(close=None, block=None)>"
      ]
     },
     "execution_count": 151,
     "metadata": {},
     "output_type": "execute_result"
    },
    {
     "data": {
      "image/png": "[encoded data removed]",
      "text/plain": [
       "<Figure size 1440x288 with 20 Axes>"
      ]
     },
     "metadata": {
      "needs_background": "light"
     },
     "output_type": "display_data"
    }
   ],
   "source": [
    "n = 10\n",
    "plt.figure(figsize = (20,4))\n",
    "for i in range(n):\n",
    "    ax = plt.subplot(2,n,i+1)\n",
    "    plt.imshow(x_train[i].reshape(28,28))\n",
    "    plt.gray()\n",
    "    ax.get_xaxis().set_visible(False)\n",
    "    ax.get_yaxis().set_visible(False)\n",
    "    ax = plt.subplot(2,n,i+1+n)\n",
    "    plt.imshow(decoded_audio[i].reshape(28,28))\n",
    "    plt.gray()\n",
    "    ax.get_xaxis().set_visible(False)\n",
    "    ax.get_yaxis().set_visible(False)\n",
    "plt.show\n",
    "    "
   ]
  },
  {
   "cell_type": "code",
   "execution_count": null,
   "id": "institutional-polyester",
   "metadata": {
    "tags": []
   },
   "outputs": [],
   "source": []
  },
  {
   "cell_type": "code",
   "execution_count": null,
   "id": "directed-confusion",
   "metadata": {},
   "outputs": [],
   "source": []
  }
 ],
 "metadata": {
  "kernelspec": {
   "display_name": "Python 3",
   "language": "python",
   "name": "python3"
  },
  "language_info": {
   "codemirror_mode": {
    "name": "ipython",
    "version": 3
   },
   "file_extension": ".py",
   "mimetype": "text/x-python",
   "name": "python",
   "nbconvert_exporter": "python",
   "pygments_lexer": "ipython3",
   "version": "3.8.5"
  }
 },
 "nbformat": 4,
 "nbformat_minor": 5
}
