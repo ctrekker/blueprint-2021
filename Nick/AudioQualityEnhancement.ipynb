{
 "cells": [
  {
   "cell_type": "markdown",
   "metadata": {},
   "source": [
    "Bring down quality of Data"
   ]
  },
  {
   "cell_type": "code",
   "execution_count": 243,
   "metadata": {
    "scrolled": true
   },
   "outputs": [],
   "source": [
    "import librosa\n",
    "import sys\n",
    "import numpy as np\n",
    "np.set_printoptions(threshold=sys.maxsize)\n",
    "\n",
    "from os import listdir\n",
    "from os.path import isfile, join\n",
    "import matplotlib.pyplot as plt\n",
    "import librosa.display\n",
    "\n",
    "import soundfile as sf\n",
    "import math\n",
    "\n",
    "import keras\n",
    "from keras import layers"
   ]
  },
  {
   "cell_type": "code",
   "execution_count": 400,
   "metadata": {
    "scrolled": true
   },
   "outputs": [],
   "source": [
    "pathOriginal = 'C:/Users/nhenl/Documents/blueprintHackathon/Nick/clips/original/'\n",
    "pathReduced = 'C:/Users/nhenl/Documents/blueprintHackathon/Nick/clips/reduced/'\n",
    "pathShorter = 'C:/Users/nhenl/Documents/blueprintHackathon/Nick/clips/shorter/'\n",
    "\n",
    "names = [f for f in listdir(pathOriginal) if isfile(join(pathOriginal, f))]\n",
    "files = [pathOriginal+f for f in listdir(pathOriginal) if isfile(join(pathOriginal, f))]"
   ]
  },
  {
   "cell_type": "code",
   "execution_count": 401,
   "metadata": {},
   "outputs": [],
   "source": [
    "def scaleData(data):\n",
    "    std=(data - data.min()) / (data.max() - data.min())\n",
    "    scaled = std * 1.0\n",
    "    return scaled\n",
    "\n",
    "def plot_stft(stft):\n",
    "    fig, ax = plt.subplots(nrows=1, ncols=1, sharex=True)\n",
    "    img = librosa.display.specshow(stft, y_axis='linear', x_axis='time',\n",
    "                                   sr=sr, ax=ax)\n",
    "    ax.set(title='Linear-frequency power spectrogram')\n",
    "    ax.label_outer()\n",
    "    \n",
    "    fig"
   ]
  },
  {
   "cell_type": "code",
   "execution_count": 402,
   "metadata": {},
   "outputs": [
    {
     "name": "stdout",
     "output_type": "stream",
     "text": [
      "0\n",
      "50\n",
      "100\n",
      "150\n",
      "200\n",
      "250\n",
      "300\n",
      "350\n",
      "400\n",
      "450\n",
      "500\n",
      "550\n",
      "600\n"
     ]
    }
   ],
   "source": [
    "num = 640\n",
    "\n",
    "#Reduce size for testing\n",
    "names=names[:num]\n",
    "files=files[:num]\n",
    "\n",
    "#Lists of spectogram images\n",
    "x_train= []\n",
    "y_train =[]\n",
    "x_test = []\n",
    "y_test = []\n",
    "\n",
    "#load all clips\n",
    "for j in range(0, len(names)):\n",
    "    y, sr = librosa.load(files[j], duration = 2)\n",
    "    \n",
    "    if(j % 50 == 0):\n",
    "        print(j)\n",
    "    \n",
    "    #2 second lengths of all clips\n",
    "    if librosa.get_duration(y=y, sr=sr) == 2.0:        \n",
    "        #lower quality using average of every four time series \n",
    "        avg = []\n",
    "        for x in range(0, y.shape[0], 4):\n",
    "                sum = 0\n",
    "                if x+4 < y.shape[0]:\n",
    "                    for i in range(x, x+4):\n",
    "                        sum += y[i]\n",
    "                    avg.append(sum/4)\n",
    "        z = np.array(avg) #np array of time series for clip\n",
    "        \n",
    "        #I need to make spectrograms\n",
    "        S_original =  librosa.amplitude_to_db(np.abs(librosa.stft(y)), ref=np.max)\n",
    "        S_reduced =  librosa.amplitude_to_db(np.abs(librosa.stft(z)), ref=np.max)\n",
    "        \n",
    "        S_origin_pad = np.zeros((1025, 88))\n",
    "        S_origin_pad[:,:87] = S_original\n",
    "\n",
    "                        \n",
    "        #S_original = scaleData(S_original)\n",
    "        #S_reduced = scaleData(S_reduced)\n",
    "        \n",
    "        #img_original = librosa.display.specshow(librosa.amplitude_to_db(S_original, ref=np.max))\n",
    "        #img_reduced = librosa.display.specshow(librosa.amplitude_to_db(S_reduced, ref=np.max))\n",
    "        \n",
    "        if(len(x_train) < (.9 * num)):\n",
    "            x_train.append(S_reduced) \n",
    "            y_train.append(S_origin_pad) \n",
    "        else:\n",
    "            x_test.append(S_reduced)\n",
    "            y_test.append(S_origin_pad)\n",
    "            \n",
    "#sf.write('test.wav', librosa.istft(x_test[0]), 22050) "
   ]
  },
  {
   "cell_type": "code",
   "execution_count": null,
   "metadata": {},
   "outputs": [],
   "source": []
  },
  {
   "cell_type": "code",
   "execution_count": 403,
   "metadata": {},
   "outputs": [],
   "source": [
    "# print(x_train[0].shape, x_test[0].shape, y_train[0].shape, y_test[0].shape)\n",
    "# plot_stft()\n",
    "\n",
    "x_train = np.array(x_train)\n",
    "y_train = np.array(y_train)\n",
    "x_test = np.array(x_test)\n",
    "y_test = np.array(y_test)"
   ]
  },
  {
   "cell_type": "code",
   "execution_count": 404,
   "metadata": {},
   "outputs": [
    {
     "data": {
      "text/plain": [
       "(576, 1025, 88)"
      ]
     },
     "execution_count": 404,
     "metadata": {},
     "output_type": "execute_result"
    }
   ],
   "source": [
    "y_train.shape"
   ]
  },
  {
   "cell_type": "code",
   "execution_count": 405,
   "metadata": {},
   "outputs": [],
   "source": [
    "x_train = (x_train + 80) / 80\n",
    "y_train = (y_train + 80) / 80\n",
    "x_test = (x_test + 80) / 80\n",
    "y_test = (y_test + 80) / 80\n",
    "\n",
    "x_train = x_train.reshape(*x_train.shape, 1)\n",
    "y_train = y_train.reshape(*y_train.shape, 1)\n",
    "x_test = x_test.reshape(*x_test.shape, 1)\n",
    "y_test = y_test.reshape(*y_test.shape, 1)\n",
    "\n"
   ]
  },
  {
   "cell_type": "code",
   "execution_count": 407,
   "metadata": {},
   "outputs": [],
   "source": [
    "import pickle\n",
    "pickle.dump([x_train, y_train, x_test, y_test], open(\"dataset640.bin\", \"wb\"))"
   ]
  },
  {
   "cell_type": "code",
   "execution_count": 408,
   "metadata": {},
   "outputs": [],
   "source": [
    "x_train, y_train, x_test, y_test = pickle.load(open(\"dataset640.bin\", \"rb\"))"
   ]
  },
  {
   "cell_type": "code",
   "execution_count": 410,
   "metadata": {},
   "outputs": [],
   "source": [
    "encoding_dim = 32\n",
    "input_img = keras.Input(shape = (1025,22,1))\n",
    "\n",
    "x = layers.Conv2D(16, (3, 3), activation='relu', padding='same')(input_img)\n",
    "x = layers.UpSampling2D((1, 2))(x)\n",
    "x = layers.Conv2D(8, (3, 3), activation='relu', padding='same')(x)\n",
    "x = layers.UpSampling2D((1, 2))(x)\n",
    "x = layers.Conv2D(8, (3, 3), activation='relu', padding='same')(x)\n",
    "encoded = layers.Conv2D(1, (3, 3), activation='sigmoid', padding='same')(x)\n",
    "\n",
    "encoder = keras.Model(input_img, encoded)\n",
    "encoder.compile(optimizer='adam', loss='binary_crossentropy')"
   ]
  },
  {
   "cell_type": "code",
   "execution_count": 411,
   "metadata": {},
   "outputs": [
    {
     "name": "stdout",
     "output_type": "stream",
     "text": [
      "Model: \"model_21\"\n",
      "_________________________________________________________________\n",
      "Layer (type)                 Output Shape              Param #   \n",
      "=================================================================\n",
      "input_21 (InputLayer)        [(None, 1025, 22, 1)]     0         \n",
      "_________________________________________________________________\n",
      "conv2d_49 (Conv2D)           (None, 1025, 22, 16)      160       \n",
      "_________________________________________________________________\n",
      "up_sampling2d_26 (UpSampling (None, 1025, 44, 16)      0         \n",
      "_________________________________________________________________\n",
      "conv2d_50 (Conv2D)           (None, 1025, 44, 8)       1160      \n",
      "_________________________________________________________________\n",
      "up_sampling2d_27 (UpSampling (None, 1025, 88, 8)       0         \n",
      "_________________________________________________________________\n",
      "conv2d_51 (Conv2D)           (None, 1025, 88, 8)       584       \n",
      "_________________________________________________________________\n",
      "conv2d_52 (Conv2D)           (None, 1025, 88, 1)       73        \n",
      "=================================================================\n",
      "Total params: 1,977\n",
      "Trainable params: 1,977\n",
      "Non-trainable params: 0\n",
      "_________________________________________________________________\n"
     ]
    }
   ],
   "source": [
    "encoder.summary()"
   ]
  },
  {
   "cell_type": "code",
   "execution_count": 412,
   "metadata": {},
   "outputs": [
    {
     "name": "stdout",
     "output_type": "stream",
     "text": [
      "Epoch 1/100\n",
      "18/18 [==============================] - 3s 122ms/step - loss: 0.6963 - val_loss: 0.6497\n",
      "Epoch 2/100\n",
      "18/18 [==============================] - 2s 107ms/step - loss: 0.6276 - val_loss: 0.4910\n",
      "Epoch 3/100\n",
      "18/18 [==============================] - 2s 104ms/step - loss: 0.5434 - val_loss: 0.4420\n",
      "Epoch 4/100\n",
      "18/18 [==============================] - 2s 105ms/step - loss: 0.4944 - val_loss: 0.3403\n",
      "Epoch 5/100\n",
      "18/18 [==============================] - 2s 105ms/step - loss: 0.4089 - val_loss: 0.2877\n",
      "Epoch 6/100\n",
      "18/18 [==============================] - 2s 105ms/step - loss: 0.3897 - val_loss: 0.2839\n",
      "Epoch 7/100\n",
      "18/18 [==============================] - 2s 106ms/step - loss: 0.3939 - val_loss: 0.2871\n",
      "Epoch 8/100\n",
      "18/18 [==============================] - 2s 105ms/step - loss: 0.3795 - val_loss: 0.2833\n",
      "Epoch 9/100\n",
      "18/18 [==============================] - 2s 105ms/step - loss: 0.3798 - val_loss: 0.2856\n",
      "Epoch 10/100\n",
      "18/18 [==============================] - 2s 105ms/step - loss: 0.3771 - val_loss: 0.2800\n",
      "Epoch 11/100\n",
      "18/18 [==============================] - 2s 105ms/step - loss: 0.3911 - val_loss: 0.2822\n",
      "Epoch 12/100\n",
      "18/18 [==============================] - 2s 106ms/step - loss: 0.3767 - val_loss: 0.2791\n",
      "Epoch 13/100\n",
      "18/18 [==============================] - 2s 105ms/step - loss: 0.3753 - val_loss: 0.2796\n",
      "Epoch 14/100\n",
      "18/18 [==============================] - 2s 105ms/step - loss: 0.3812 - val_loss: 0.2805\n",
      "Epoch 15/100\n",
      "18/18 [==============================] - 2s 105ms/step - loss: 0.3773 - val_loss: 0.2778\n",
      "Epoch 16/100\n",
      "18/18 [==============================] - 2s 105ms/step - loss: 0.3732 - val_loss: 0.2776\n",
      "Epoch 17/100\n",
      "18/18 [==============================] - 2s 109ms/step - loss: 0.3768 - val_loss: 0.2780\n",
      "Epoch 18/100\n",
      "18/18 [==============================] - 2s 106ms/step - loss: 0.3731 - val_loss: 0.2767\n",
      "Epoch 19/100\n",
      "18/18 [==============================] - 2s 105ms/step - loss: 0.3769 - val_loss: 0.2754\n",
      "Epoch 20/100\n",
      "18/18 [==============================] - 2s 106ms/step - loss: 0.3826 - val_loss: 0.2755\n",
      "Epoch 21/100\n",
      "18/18 [==============================] - 2s 106ms/step - loss: 0.3742 - val_loss: 0.2803\n",
      "Epoch 22/100\n",
      "18/18 [==============================] - 2s 105ms/step - loss: 0.3752 - val_loss: 0.2779\n",
      "Epoch 23/100\n",
      "18/18 [==============================] - 2s 107ms/step - loss: 0.3769 - val_loss: 0.2743\n",
      "Epoch 24/100\n",
      "18/18 [==============================] - 2s 105ms/step - loss: 0.3748 - val_loss: 0.2763\n",
      "Epoch 25/100\n",
      "18/18 [==============================] - 2s 107ms/step - loss: 0.3693 - val_loss: 0.2788\n",
      "Epoch 26/100\n",
      "18/18 [==============================] - 2s 106ms/step - loss: 0.3692 - val_loss: 0.2760\n",
      "Epoch 27/100\n",
      "18/18 [==============================] - 2s 106ms/step - loss: 0.3666 - val_loss: 0.2821\n",
      "Epoch 28/100\n",
      "18/18 [==============================] - 2s 111ms/step - loss: 0.3703 - val_loss: 0.2800\n",
      "Epoch 29/100\n",
      "18/18 [==============================] - 2s 106ms/step - loss: 0.3746 - val_loss: 0.2763\n",
      "Epoch 30/100\n",
      "18/18 [==============================] - 2s 105ms/step - loss: 0.3759 - val_loss: 0.2738\n",
      "Epoch 31/100\n",
      "18/18 [==============================] - 2s 105ms/step - loss: 0.3785 - val_loss: 0.2745\n",
      "Epoch 32/100\n",
      "18/18 [==============================] - 2s 106ms/step - loss: 0.3757 - val_loss: 0.2774\n",
      "Epoch 33/100\n",
      "18/18 [==============================] - 2s 105ms/step - loss: 0.3708 - val_loss: 0.2774\n",
      "Epoch 34/100\n",
      "18/18 [==============================] - 2s 105ms/step - loss: 0.3720 - val_loss: 0.2777\n",
      "Epoch 35/100\n",
      "18/18 [==============================] - 2s 105ms/step - loss: 0.3713 - val_loss: 0.2755\n",
      "Epoch 36/100\n",
      "18/18 [==============================] - 2s 105ms/step - loss: 0.3757 - val_loss: 0.2788\n",
      "Epoch 37/100\n",
      "18/18 [==============================] - 2s 105ms/step - loss: 0.3717 - val_loss: 0.2792\n",
      "Epoch 38/100\n",
      "18/18 [==============================] - 2s 105ms/step - loss: 0.3671 - val_loss: 0.2796\n",
      "Epoch 39/100\n",
      "18/18 [==============================] - 2s 105ms/step - loss: 0.3730 - val_loss: 0.2743\n",
      "Epoch 40/100\n",
      "18/18 [==============================] - 2s 106ms/step - loss: 0.3708 - val_loss: 0.2812\n",
      "Epoch 41/100\n",
      "18/18 [==============================] - 2s 106ms/step - loss: 0.3701 - val_loss: 0.2735\n",
      "Epoch 42/100\n",
      "18/18 [==============================] - 2s 106ms/step - loss: 0.3728 - val_loss: 0.2749\n",
      "Epoch 43/100\n",
      "18/18 [==============================] - 2s 106ms/step - loss: 0.3753 - val_loss: 0.2735\n",
      "Epoch 44/100\n",
      "18/18 [==============================] - 2s 106ms/step - loss: 0.3792 - val_loss: 0.2770\n",
      "Epoch 45/100\n",
      "18/18 [==============================] - 2s 105ms/step - loss: 0.3786 - val_loss: 0.2770\n",
      "Epoch 46/100\n",
      "18/18 [==============================] - 2s 109ms/step - loss: 0.3674 - val_loss: 0.2748\n",
      "Epoch 47/100\n",
      "18/18 [==============================] - 2s 106ms/step - loss: 0.3759 - val_loss: 0.2769\n",
      "Epoch 48/100\n",
      "18/18 [==============================] - 2s 105ms/step - loss: 0.3730 - val_loss: 0.2768\n",
      "Epoch 49/100\n",
      "18/18 [==============================] - 2s 106ms/step - loss: 0.3737 - val_loss: 0.2743\n",
      "Epoch 50/100\n",
      "18/18 [==============================] - 2s 105ms/step - loss: 0.3733 - val_loss: 0.2745\n",
      "Epoch 51/100\n",
      "18/18 [==============================] - 2s 105ms/step - loss: 0.3691 - val_loss: 0.2784\n",
      "Epoch 52/100\n",
      "18/18 [==============================] - 2s 106ms/step - loss: 0.3672 - val_loss: 0.2747\n",
      "Epoch 53/100\n",
      "18/18 [==============================] - 2s 106ms/step - loss: 0.3718 - val_loss: 0.2767\n",
      "Epoch 54/100\n",
      "18/18 [==============================] - 2s 105ms/step - loss: 0.3742 - val_loss: 0.2729\n",
      "Epoch 55/100\n",
      "18/18 [==============================] - 2s 105ms/step - loss: 0.3735 - val_loss: 0.2774\n",
      "Epoch 56/100\n",
      "18/18 [==============================] - 2s 106ms/step - loss: 0.3681 - val_loss: 0.2791\n",
      "Epoch 57/100\n",
      "18/18 [==============================] - 2s 105ms/step - loss: 0.3741 - val_loss: 0.2752\n",
      "Epoch 58/100\n",
      "18/18 [==============================] - 2s 105ms/step - loss: 0.3694 - val_loss: 0.2774\n",
      "Epoch 59/100\n",
      "18/18 [==============================] - 2s 105ms/step - loss: 0.3663 - val_loss: 0.2753\n",
      "Epoch 60/100\n",
      "18/18 [==============================] - 2s 106ms/step - loss: 0.3724 - val_loss: 0.2751\n",
      "Epoch 61/100\n",
      "18/18 [==============================] - 2s 109ms/step - loss: 0.3750 - val_loss: 0.2734\n",
      "Epoch 62/100\n",
      "18/18 [==============================] - 2s 106ms/step - loss: 0.3724 - val_loss: 0.2756\n",
      "Epoch 63/100\n",
      "18/18 [==============================] - 2s 105ms/step - loss: 0.3671 - val_loss: 0.2741\n",
      "Epoch 64/100\n",
      "18/18 [==============================] - 2s 106ms/step - loss: 0.3655 - val_loss: 0.2771\n",
      "Epoch 65/100\n",
      "18/18 [==============================] - 2s 105ms/step - loss: 0.3726 - val_loss: 0.2744\n",
      "Epoch 66/100\n",
      "18/18 [==============================] - 2s 105ms/step - loss: 0.3672 - val_loss: 0.2791\n",
      "Epoch 67/100\n",
      "18/18 [==============================] - 2s 105ms/step - loss: 0.3676 - val_loss: 0.2748\n",
      "Epoch 68/100\n",
      "18/18 [==============================] - 2s 106ms/step - loss: 0.3742 - val_loss: 0.2776\n",
      "Epoch 69/100\n",
      "18/18 [==============================] - 2s 105ms/step - loss: 0.3671 - val_loss: 0.2801\n",
      "Epoch 70/100\n",
      "18/18 [==============================] - 2s 105ms/step - loss: 0.3656 - val_loss: 0.2730\n",
      "Epoch 71/100\n",
      "18/18 [==============================] - 2s 106ms/step - loss: 0.3721 - val_loss: 0.2762\n",
      "Epoch 72/100\n",
      "18/18 [==============================] - 2s 106ms/step - loss: 0.3664 - val_loss: 0.2739\n",
      "Epoch 73/100\n",
      "18/18 [==============================] - 2s 106ms/step - loss: 0.3670 - val_loss: 0.2770\n",
      "Epoch 74/100\n",
      "18/18 [==============================] - 2s 105ms/step - loss: 0.3696 - val_loss: 0.2742\n",
      "Epoch 75/100\n",
      "18/18 [==============================] - 2s 106ms/step - loss: 0.3730 - val_loss: 0.2754\n",
      "Epoch 76/100\n",
      "18/18 [==============================] - 2s 106ms/step - loss: 0.3675 - val_loss: 0.2742\n",
      "Epoch 77/100\n",
      "18/18 [==============================] - 2s 105ms/step - loss: 0.3645 - val_loss: 0.2738\n",
      "Epoch 78/100\n",
      "18/18 [==============================] - 2s 105ms/step - loss: 0.3676 - val_loss: 0.2754\n",
      "Epoch 79/100\n",
      "18/18 [==============================] - 2s 105ms/step - loss: 0.3711 - val_loss: 0.2767\n",
      "Epoch 80/100\n",
      "18/18 [==============================] - 2s 105ms/step - loss: 0.3756 - val_loss: 0.2734\n",
      "Epoch 81/100\n",
      "18/18 [==============================] - 2s 107ms/step - loss: 0.3777 - val_loss: 0.2759\n",
      "Epoch 82/100\n",
      "18/18 [==============================] - 2s 105ms/step - loss: 0.3715 - val_loss: 0.2749\n",
      "Epoch 83/100\n",
      "18/18 [==============================] - 2s 105ms/step - loss: 0.3754 - val_loss: 0.2749\n",
      "Epoch 84/100\n",
      "18/18 [==============================] - 2s 106ms/step - loss: 0.3642 - val_loss: 0.2737\n",
      "Epoch 85/100\n",
      "18/18 [==============================] - 2s 105ms/step - loss: 0.3725 - val_loss: 0.2738\n",
      "Epoch 86/100\n",
      "18/18 [==============================] - 2s 107ms/step - loss: 0.3769 - val_loss: 0.2755\n",
      "Epoch 87/100\n",
      "18/18 [==============================] - 2s 105ms/step - loss: 0.3628 - val_loss: 0.2749\n",
      "Epoch 88/100\n",
      "18/18 [==============================] - 2s 104ms/step - loss: 0.3664 - val_loss: 0.2757\n",
      "Epoch 89/100\n",
      "18/18 [==============================] - 2s 105ms/step - loss: 0.3711 - val_loss: 0.2747\n",
      "Epoch 90/100\n",
      "18/18 [==============================] - 2s 106ms/step - loss: 0.3652 - val_loss: 0.2739\n",
      "Epoch 91/100\n",
      "18/18 [==============================] - 2s 105ms/step - loss: 0.3731 - val_loss: 0.2755\n",
      "Epoch 92/100\n",
      "18/18 [==============================] - 2s 112ms/step - loss: 0.3689 - val_loss: 0.2726\n",
      "Epoch 93/100\n",
      "18/18 [==============================] - 2s 121ms/step - loss: 0.3584 - val_loss: 0.2740\n",
      "Epoch 94/100\n",
      "18/18 [==============================] - 2s 113ms/step - loss: 0.3561 - val_loss: 0.2756\n",
      "Epoch 95/100\n",
      "18/18 [==============================] - 2s 112ms/step - loss: 0.3701 - val_loss: 0.2740\n",
      "Epoch 96/100\n",
      "18/18 [==============================] - 2s 111ms/step - loss: 0.3648 - val_loss: 0.2742\n",
      "Epoch 97/100\n",
      "18/18 [==============================] - 2s 110ms/step - loss: 0.3756 - val_loss: 0.2729\n",
      "Epoch 98/100\n",
      "18/18 [==============================] - 2s 114ms/step - loss: 0.3699 - val_loss: 0.2747\n",
      "Epoch 99/100\n",
      "18/18 [==============================] - 2s 110ms/step - loss: 0.3693 - val_loss: 0.2746\n",
      "Epoch 100/100\n",
      "18/18 [==============================] - 2s 109ms/step - loss: 0.3681 - val_loss: 0.2749\n"
     ]
    },
    {
     "data": {
      "text/plain": [
       "<tensorflow.python.keras.callbacks.History at 0x179074331c0>"
      ]
     },
     "execution_count": 412,
     "metadata": {},
     "output_type": "execute_result"
    }
   ],
   "source": [
    "encoder.fit(x_train, y_train,\n",
    "                epochs=100,\n",
    "                batch_size=32,\n",
    "                shuffle=True,\n",
    "                validation_data=(x_test, y_test))"
   ]
  },
  {
   "cell_type": "code",
   "execution_count": 462,
   "metadata": {},
   "outputs": [
    {
     "data": {
      "image/png": "[encoded data removed]",
      "text/plain": [
       "<Figure size 432x288 with 1 Axes>"
      ]
     },
     "metadata": {
      "needs_background": "light"
     },
     "output_type": "display_data"
    }
   ],
   "source": [
    "focus = 70\n",
    "plot_stft(x_train[focus].reshape(1025, 22))"
   ]
  },
  {
   "cell_type": "code",
   "execution_count": 463,
   "metadata": {},
   "outputs": [
    {
     "data": {
      "image/png": "[encoded data removed]",
      "text/plain": [
       "<Figure size 432x288 with 1 Axes>"
      ]
     },
     "metadata": {
      "needs_background": "light"
     },
     "output_type": "display_data"
    }
   ],
   "source": [
    "plot_stft(encoder.predict(x_train)[focus].reshape(1025, 88))"
   ]
  },
  {
   "cell_type": "code",
   "execution_count": 473,
   "metadata": {},
   "outputs": [],
   "source": [
    "out = encoder.predict(x_train)[focus].reshape(1025, 88)\n",
    "out = out * 80 - 80\n",
    "#out = librosa.db_to_amplitude(out)\n",
    "\n",
    "oregano_out = y_train[focus].reshape(1025, 88)\n",
    "oregano_out = oregano_out * 80 - 80\n",
    "#oregano_out = librosa.db_to_amplitude(oregano_out)"
   ]
  },
  {
   "cell_type": "code",
   "execution_count": 474,
   "metadata": {},
   "outputs": [],
   "source": [
    "sf.write('oregano.wav', librosa.istft(oregano_out), 22050)\n",
    "sf.write('insane.wav', librosa.istft(out), 22050)"
   ]
  },
  {
   "cell_type": "code",
   "execution_count": null,
   "metadata": {},
   "outputs": [],
   "source": []
  }
 ],
 "metadata": {
  "kernelspec": {
   "display_name": "Python 3",
   "language": "python",
   "name": "python3"
  },
  "language_info": {
   "codemirror_mode": {
    "name": "ipython",
    "version": 3
   },
   "file_extension": ".py",
   "mimetype": "text/x-python",
   "name": "python",
   "nbconvert_exporter": "python",
   "pygments_lexer": "ipython3",
   "version": "3.8.3"
  }
 },
 "nbformat": 4,
 "nbformat_minor": 4
}
