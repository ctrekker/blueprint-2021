{
 "cells": [
  {
   "cell_type": "markdown",
   "metadata": {},
   "source": [
    "Bring down quality of Data"
   ]
  },
  {
   "cell_type": "code",
   "execution_count": 5,
   "metadata": {
    "scrolled": true
   },
   "outputs": [],
   "source": [
    "import librosa\n",
    "import sys\n",
    "import numpy as np\n",
    "np.set_printoptions(threshold=sys.maxsize)\n",
    "\n",
    "from os import listdir\n",
    "from os.path import isfile, join\n",
    "import matplotlib.pyplot as plt\n",
    "import librosa.display\n",
    "\n",
    "import soundfile as sf\n",
    "import math\n",
    "\n",
    "import keras\n",
    "from keras import layers"
   ]
  },
  {
   "cell_type": "code",
   "execution_count": 6,
   "metadata": {
    "scrolled": true
   },
   "outputs": [],
   "source": [
    "pathOriginal = 'C:/Users/nhenl/Documents/blueprintHackathon/Nick/clips/original/'\n",
    "pathReduced = 'C:/Users/nhenl/Documents/blueprintHackathon/Nick/clips/reduced/'\n",
    "pathShorter = 'C:/Users/nhenl/Documents/blueprintHackathon/Nick/clips/shorter/'\n",
    "\n",
    "names = [f for f in listdir(pathOriginal) if isfile(join(pathOriginal, f))]\n",
    "files = [pathOriginal+f for f in listdir(pathOriginal) if isfile(join(pathOriginal, f))]"
   ]
  },
  {
   "cell_type": "code",
   "execution_count": 7,
   "metadata": {},
   "outputs": [],
   "source": [
    "def scaleData(data):\n",
    "    std=(data - data.min()) / (data.max() - data.min())\n",
    "    scaled = std * 1.0\n",
    "    return scaled\n",
    "\n",
    "def plot_stft(stft):\n",
    "    fig, ax = plt.subplots(nrows=1, ncols=1, sharex=True)\n",
    "    img = librosa.display.specshow(stft, y_axis='linear', x_axis='time',\n",
    "                                   sr=sr, ax=ax)\n",
    "    ax.set(title='Linear-frequency power spectrogram')\n",
    "    ax.label_outer()\n",
    "    \n",
    "    fig"
   ]
  },
  {
   "cell_type": "code",
   "execution_count": 402,
   "metadata": {},
   "outputs": [
    {
     "name": "stdout",
     "output_type": "stream",
     "text": [
      "0\n",
      "50\n",
      "100\n",
      "150\n",
      "200\n",
      "250\n",
      "300\n",
      "350\n",
      "400\n",
      "450\n",
      "500\n",
      "550\n",
      "600\n"
     ]
    }
   ],
   "source": [
    "num = 640\n",
    "\n",
    "#Reduce size for testing\n",
    "names=names[:num]\n",
    "files=files[:num]\n",
    "\n",
    "#Lists of spectogram images\n",
    "x_train= []\n",
    "y_train =[]\n",
    "x_test = []\n",
    "y_test = []\n",
    "\n",
    "#load all clips\n",
    "for j in range(0, len(names)):\n",
    "    y, sr = librosa.load(files[j], duration = 2)\n",
    "    \n",
    "    if(j % 50 == 0):\n",
    "        print(j)\n",
    "    \n",
    "    #2 second lengths of all clips\n",
    "    if librosa.get_duration(y=y, sr=sr) == 2.0:        \n",
    "        #lower quality using average of every four time series \n",
    "        avg = []\n",
    "        for x in range(0, y.shape[0], 4):\n",
    "                sum = 0\n",
    "                if x+4 < y.shape[0]:\n",
    "                    for i in range(x, x+4):\n",
    "                        sum += y[i]\n",
    "                    avg.append(sum/4)\n",
    "        z = np.array(avg) #np array of time series for clip\n",
    "        \n",
    "        #I need to make spectrograms\n",
    "        S_original =  librosa.amplitude_to_db(np.abs(librosa.stft(y)), ref=np.max)\n",
    "        S_reduced =  librosa.amplitude_to_db(np.abs(librosa.stft(z)), ref=np.max)\n",
    "        \n",
    "        S_origin_pad = np.zeros((1025, 88))\n",
    "        S_origin_pad[:,:87] = S_original\n",
    "\n",
    "                        \n",
    "        #S_original = scaleData(S_original)\n",
    "        #S_reduced = scaleData(S_reduced)\n",
    "        \n",
    "        #img_original = librosa.display.specshow(librosa.amplitude_to_db(S_original, ref=np.max))\n",
    "        #img_reduced = librosa.display.specshow(librosa.amplitude_to_db(S_reduced, ref=np.max))\n",
    "        \n",
    "        if(len(x_train) < (.9 * num)):\n",
    "            x_train.append(S_reduced) \n",
    "            y_train.append(S_origin_pad) \n",
    "        else:\n",
    "            x_test.append(S_reduced)\n",
    "            y_test.append(S_origin_pad)\n",
    "            \n",
    "#sf.write('test.wav', librosa.istft(x_test[0]), 22050) "
   ]
  },
  {
   "cell_type": "code",
   "execution_count": null,
   "metadata": {},
   "outputs": [],
   "source": []
  },
  {
   "cell_type": "code",
   "execution_count": 403,
   "metadata": {},
   "outputs": [],
   "source": [
    "# print(x_train[0].shape, x_test[0].shape, y_train[0].shape, y_test[0].shape)\n",
    "# plot_stft()\n",
    "\n",
    "x_train = np.array(x_train)\n",
    "y_train = np.array(y_train)\n",
    "x_test = np.array(x_test)\n",
    "y_test = np.array(y_test)"
   ]
  },
  {
   "cell_type": "code",
   "execution_count": 404,
   "metadata": {},
   "outputs": [
    {
     "data": {
      "text/plain": [
       "(576, 1025, 88)"
      ]
     },
     "execution_count": 404,
     "metadata": {},
     "output_type": "execute_result"
    }
   ],
   "source": [
    "y_train.shape"
   ]
  },
  {
   "cell_type": "code",
   "execution_count": 405,
   "metadata": {},
   "outputs": [],
   "source": [
    "x_train = (x_train + 80) / 80\n",
    "y_train = (y_train + 80) / 80\n",
    "x_test = (x_test + 80) / 80\n",
    "y_test = (y_test + 80) / 80\n",
    "\n",
    "x_train = x_train.reshape(*x_train.shape, 1)\n",
    "y_train = y_train.reshape(*y_train.shape, 1)\n",
    "x_test = x_test.reshape(*x_test.shape, 1)\n",
    "y_test = y_test.reshape(*y_test.shape, 1)\n",
    "\n"
   ]
  },
  {
   "cell_type": "code",
   "execution_count": 407,
   "metadata": {},
   "outputs": [],
   "source": [
    "import pickle\n",
    "pickle.dump([x_train, y_train, x_test, y_test], open(\"dataset640.bin\", \"wb\"))"
   ]
  },
  {
   "cell_type": "code",
   "execution_count": 9,
   "metadata": {},
   "outputs": [],
   "source": [
    "import pickle\n",
    "x_train, y_train, x_test, y_test = pickle.load(open(\"dataset640.bin\", \"rb\"))"
   ]
  },
  {
   "cell_type": "code",
   "execution_count": 10,
   "metadata": {},
   "outputs": [],
   "source": [
    "encoding_dim = 32\n",
    "input_img = keras.Input(shape = (1025,22,1))\n",
    "\n",
    "x = layers.Conv2D(16, (3, 3), activation='relu', padding='same')(input_img)\n",
    "x = layers.UpSampling2D((1, 2))(x)\n",
    "x = layers.Conv2D(8, (3, 3), activation='relu', padding='same')(x)\n",
    "x = layers.UpSampling2D((1, 2))(x)\n",
    "x = layers.Conv2D(8, (3, 3), activation='relu', padding='same')(x)\n",
    "encoded = layers.Conv2D(1, (3, 3), activation='sigmoid', padding='same')(x)\n",
    "\n",
    "encoder = keras.Model(input_img, encoded)\n",
    "encoder.compile(optimizer='adam', loss='binary_crossentropy')"
   ]
  },
  {
   "cell_type": "code",
   "execution_count": 11,
   "metadata": {},
   "outputs": [
    {
     "name": "stdout",
     "output_type": "stream",
     "text": [
      "Model: \"model\"\n",
      "_________________________________________________________________\n",
      "Layer (type)                 Output Shape              Param #   \n",
      "=================================================================\n",
      "input_1 (InputLayer)         [(None, 1025, 22, 1)]     0         \n",
      "_________________________________________________________________\n",
      "conv2d (Conv2D)              (None, 1025, 22, 16)      160       \n",
      "_________________________________________________________________\n",
      "up_sampling2d (UpSampling2D) (None, 1025, 44, 16)      0         \n",
      "_________________________________________________________________\n",
      "conv2d_1 (Conv2D)            (None, 1025, 44, 8)       1160      \n",
      "_________________________________________________________________\n",
      "up_sampling2d_1 (UpSampling2 (None, 1025, 88, 8)       0         \n",
      "_________________________________________________________________\n",
      "conv2d_2 (Conv2D)            (None, 1025, 88, 8)       584       \n",
      "_________________________________________________________________\n",
      "conv2d_3 (Conv2D)            (None, 1025, 88, 1)       73        \n",
      "=================================================================\n",
      "Total params: 1,977\n",
      "Trainable params: 1,977\n",
      "Non-trainable params: 0\n",
      "_________________________________________________________________\n"
     ]
    }
   ],
   "source": [
    "encoder.summary()"
   ]
  },
  {
   "cell_type": "code",
   "execution_count": 12,
   "metadata": {},
   "outputs": [
    {
     "name": "stdout",
     "output_type": "stream",
     "text": [
      "Epoch 1/100\n",
      "18/18 [==============================] - 5s 86ms/step - loss: 0.6457 - val_loss: 0.4894\n",
      "Epoch 2/100\n",
      "18/18 [==============================] - 1s 68ms/step - loss: 0.5522 - val_loss: 0.4326\n",
      "Epoch 3/100\n",
      "18/18 [==============================] - 1s 68ms/step - loss: 0.4799 - val_loss: 0.3155\n",
      "Epoch 4/100\n",
      "18/18 [==============================] - 1s 67ms/step - loss: 0.4048 - val_loss: 0.2901\n",
      "Epoch 5/100\n",
      "18/18 [==============================] - 1s 67ms/step - loss: 0.3927 - val_loss: 0.2915\n",
      "Epoch 6/100\n",
      "18/18 [==============================] - 1s 67ms/step - loss: 0.3914 - val_loss: 0.2888\n",
      "Epoch 7/100\n",
      "18/18 [==============================] - 1s 68ms/step - loss: 0.3842 - val_loss: 0.2863\n",
      "Epoch 8/100\n",
      "18/18 [==============================] - 1s 67ms/step - loss: 0.3856 - val_loss: 0.2846\n",
      "Epoch 9/100\n",
      "18/18 [==============================] - 1s 67ms/step - loss: 0.3963 - val_loss: 0.2813\n",
      "Epoch 10/100\n",
      "18/18 [==============================] - 1s 67ms/step - loss: 0.3749 - val_loss: 0.2867\n",
      "Epoch 11/100\n",
      "18/18 [==============================] - 1s 67ms/step - loss: 0.3844 - val_loss: 0.2802\n",
      "Epoch 12/100\n",
      "18/18 [==============================] - 1s 68ms/step - loss: 0.3822 - val_loss: 0.2785\n",
      "Epoch 13/100\n",
      "18/18 [==============================] - 1s 67ms/step - loss: 0.3763 - val_loss: 0.2790\n",
      "Epoch 14/100\n",
      "18/18 [==============================] - 1s 67ms/step - loss: 0.3716 - val_loss: 0.2794\n",
      "Epoch 15/100\n",
      "18/18 [==============================] - 1s 68ms/step - loss: 0.3756 - val_loss: 0.2767\n",
      "Epoch 16/100\n",
      "18/18 [==============================] - 1s 67ms/step - loss: 0.3771 - val_loss: 0.2774\n",
      "Epoch 17/100\n",
      "18/18 [==============================] - 1s 67ms/step - loss: 0.3809 - val_loss: 0.2772\n",
      "Epoch 18/100\n",
      "18/18 [==============================] - 1s 68ms/step - loss: 0.3745 - val_loss: 0.2787\n",
      "Epoch 19/100\n",
      "18/18 [==============================] - 1s 68ms/step - loss: 0.3688 - val_loss: 0.2790\n",
      "Epoch 20/100\n",
      "18/18 [==============================] - 1s 67ms/step - loss: 0.3745 - val_loss: 0.2768\n",
      "Epoch 21/100\n",
      "18/18 [==============================] - 1s 67ms/step - loss: 0.3680 - val_loss: 0.2731\n",
      "Epoch 22/100\n",
      "18/18 [==============================] - 15s 882ms/step - loss: 0.3802 - val_loss: 0.2749\n",
      "Epoch 23/100\n",
      "18/18 [==============================] - 8s 452ms/step - loss: 0.3746 - val_loss: 0.2765\n",
      "Epoch 24/100\n",
      "18/18 [==============================] - 5s 275ms/step - loss: 0.3702 - val_loss: 0.2758\n",
      "Epoch 25/100\n",
      "18/18 [==============================] - 4s 247ms/step - loss: 0.3780 - val_loss: 0.2739\n",
      "Epoch 26/100\n",
      "18/18 [==============================] - 5s 254ms/step - loss: 0.3691 - val_loss: 0.2799\n",
      "Epoch 27/100\n",
      "18/18 [==============================] - 4s 250ms/step - loss: 0.3751 - val_loss: 0.2792\n",
      "Epoch 28/100\n",
      "18/18 [==============================] - 5s 314ms/step - loss: 0.3766 - val_loss: 0.2738\n",
      "Epoch 29/100\n",
      "18/18 [==============================] - 15s 804ms/step - loss: 0.3685 - val_loss: 0.2740\n",
      "Epoch 30/100\n",
      "18/18 [==============================] - 6s 353ms/step - loss: 0.3770 - val_loss: 0.2758\n",
      "Epoch 31/100\n",
      "18/18 [==============================] - 6s 326ms/step - loss: 0.3710 - val_loss: 0.2782\n",
      "Epoch 32/100\n",
      "18/18 [==============================] - 6s 363ms/step - loss: 0.3768 - val_loss: 0.2728\n",
      "Epoch 33/100\n",
      "18/18 [==============================] - 6s 357ms/step - loss: 0.3718 - val_loss: 0.2753\n",
      "Epoch 34/100\n",
      "18/18 [==============================] - 7s 369ms/step - loss: 0.3770 - val_loss: 0.2750\n",
      "Epoch 35/100\n",
      "18/18 [==============================] - 6s 358ms/step - loss: 0.3678 - val_loss: 0.2764\n",
      "Epoch 36/100\n",
      "18/18 [==============================] - 6s 354ms/step - loss: 0.3729 - val_loss: 0.2740\n",
      "Epoch 37/100\n",
      "18/18 [==============================] - 7s 369ms/step - loss: 0.3732 - val_loss: 0.2750\n",
      "Epoch 38/100\n",
      "18/18 [==============================] - 7s 373ms/step - loss: 0.3674 - val_loss: 0.2779\n",
      "Epoch 39/100\n",
      "18/18 [==============================] - 7s 371ms/step - loss: 0.3754 - val_loss: 0.2743\n",
      "Epoch 40/100\n",
      "18/18 [==============================] - 7s 364ms/step - loss: 0.3742 - val_loss: 0.2716\n",
      "Epoch 41/100\n",
      "18/18 [==============================] - 7s 368ms/step - loss: 0.3711 - val_loss: 0.2740\n",
      "Epoch 42/100\n",
      "18/18 [==============================] - 7s 373ms/step - loss: 0.3790 - val_loss: 0.2785\n",
      "Epoch 43/100\n",
      "18/18 [==============================] - 8s 434ms/step - loss: 0.3697 - val_loss: 0.2767\n",
      "Epoch 44/100\n",
      "18/18 [==============================] - 8s 435ms/step - loss: 0.3743 - val_loss: 0.2750\n",
      "Epoch 45/100\n",
      "18/18 [==============================] - 8s 458ms/step - loss: 0.3678 - val_loss: 0.2773\n",
      "Epoch 46/100\n",
      "18/18 [==============================] - 8s 435ms/step - loss: 0.3672 - val_loss: 0.2787\n",
      "Epoch 47/100\n",
      "18/18 [==============================] - 6s 362ms/step - loss: 0.3767 - val_loss: 0.2740\n",
      "Epoch 48/100\n",
      "18/18 [==============================] - 7s 409ms/step - loss: 0.3753 - val_loss: 0.2750\n",
      "Epoch 49/100\n",
      "18/18 [==============================] - 6s 359ms/step - loss: 0.3778 - val_loss: 0.2734\n",
      "Epoch 50/100\n",
      "18/18 [==============================] - 7s 395ms/step - loss: 0.3640 - val_loss: 0.2721\n",
      "Epoch 51/100\n",
      "18/18 [==============================] - 7s 384ms/step - loss: 0.3776 - val_loss: 0.2779\n",
      "Epoch 52/100\n",
      "18/18 [==============================] - 7s 365ms/step - loss: 0.3720 - val_loss: 0.2769\n",
      "Epoch 53/100\n",
      "18/18 [==============================] - 6s 361ms/step - loss: 0.3770 - val_loss: 0.2732\n",
      "Epoch 54/100\n",
      "18/18 [==============================] - 6s 355ms/step - loss: 0.3710 - val_loss: 0.2721\n",
      "Epoch 55/100\n",
      "18/18 [==============================] - 6s 354ms/step - loss: 0.3732 - val_loss: 0.2721\n",
      "Epoch 56/100\n",
      "18/18 [==============================] - 7s 368ms/step - loss: 0.3707 - val_loss: 0.2747\n",
      "Epoch 57/100\n",
      "18/18 [==============================] - 6s 349ms/step - loss: 0.3686 - val_loss: 0.2802\n",
      "Epoch 58/100\n",
      "18/18 [==============================] - 7s 363ms/step - loss: 0.3725 - val_loss: 0.2791\n",
      "Epoch 59/100\n",
      "18/18 [==============================] - 7s 367ms/step - loss: 0.3693 - val_loss: 0.2760\n",
      "Epoch 60/100\n",
      "18/18 [==============================] - 9s 485ms/step - loss: 0.3672 - val_loss: 0.2761\n",
      "Epoch 61/100\n",
      "18/18 [==============================] - 6s 360ms/step - loss: 0.3624 - val_loss: 0.2762\n",
      "Epoch 62/100\n",
      "18/18 [==============================] - 7s 374ms/step - loss: 0.3761 - val_loss: 0.2761\n",
      "Epoch 63/100\n",
      "18/18 [==============================] - 7s 362ms/step - loss: 0.3655 - val_loss: 0.2743\n",
      "Epoch 64/100\n",
      "18/18 [==============================] - 6s 356ms/step - loss: 0.3718 - val_loss: 0.2790\n",
      "Epoch 65/100\n",
      "18/18 [==============================] - 6s 355ms/step - loss: 0.3653 - val_loss: 0.2755\n",
      "Epoch 66/100\n",
      "18/18 [==============================] - 6s 358ms/step - loss: 0.3709 - val_loss: 0.2760\n",
      "Epoch 67/100\n",
      "18/18 [==============================] - 6s 349ms/step - loss: 0.3770 - val_loss: 0.2719\n",
      "Epoch 68/100\n",
      "18/18 [==============================] - 7s 367ms/step - loss: 0.3693 - val_loss: 0.2728\n",
      "Epoch 69/100\n",
      "18/18 [==============================] - 6s 360ms/step - loss: 0.3791 - val_loss: 0.2782\n",
      "Epoch 70/100\n",
      "18/18 [==============================] - 7s 365ms/step - loss: 0.3745 - val_loss: 0.2768\n",
      "Epoch 71/100\n",
      "18/18 [==============================] - 7s 369ms/step - loss: 0.3682 - val_loss: 0.2763\n",
      "Epoch 72/100\n",
      "18/18 [==============================] - 7s 375ms/step - loss: 0.3730 - val_loss: 0.2716\n",
      "Epoch 73/100\n",
      "18/18 [==============================] - 6s 356ms/step - loss: 0.3795 - val_loss: 0.2775\n",
      "Epoch 74/100\n",
      "18/18 [==============================] - 7s 368ms/step - loss: 0.3730 - val_loss: 0.2757\n",
      "Epoch 75/100\n",
      "18/18 [==============================] - 6s 362ms/step - loss: 0.3754 - val_loss: 0.2747\n",
      "Epoch 76/100\n",
      "18/18 [==============================] - 6s 362ms/step - loss: 0.3706 - val_loss: 0.2725\n",
      "Epoch 77/100\n",
      "18/18 [==============================] - 7s 364ms/step - loss: 0.3676 - val_loss: 0.2713\n",
      "Epoch 78/100\n",
      "18/18 [==============================] - 6s 352ms/step - loss: 0.3635 - val_loss: 0.2722\n",
      "Epoch 79/100\n",
      "18/18 [==============================] - 7s 365ms/step - loss: 0.3720 - val_loss: 0.2726\n",
      "Epoch 80/100\n",
      "18/18 [==============================] - 8s 443ms/step - loss: 0.3736 - val_loss: 0.2712\n",
      "Epoch 81/100\n",
      "18/18 [==============================] - 7s 376ms/step - loss: 0.3694 - val_loss: 0.2723\n",
      "Epoch 82/100\n",
      "18/18 [==============================] - 7s 368ms/step - loss: 0.3692 - val_loss: 0.2776\n",
      "Epoch 83/100\n",
      "18/18 [==============================] - 6s 354ms/step - loss: 0.3696 - val_loss: 0.2776\n",
      "Epoch 84/100\n",
      "18/18 [==============================] - 10s 576ms/step - loss: 0.3670 - val_loss: 0.2718\n",
      "Epoch 85/100\n",
      "18/18 [==============================] - 14s 830ms/step - loss: 0.3675 - val_loss: 0.2725\n",
      "Epoch 86/100\n",
      "18/18 [==============================] - 7s 407ms/step - loss: 0.3662 - val_loss: 0.2782\n",
      "Epoch 87/100\n",
      "18/18 [==============================] - 6s 341ms/step - loss: 0.3654 - val_loss: 0.2796\n",
      "Epoch 88/100\n",
      "18/18 [==============================] - 6s 349ms/step - loss: 0.3716 - val_loss: 0.2731\n",
      "Epoch 89/100\n",
      "18/18 [==============================] - 8s 458ms/step - loss: 0.3767 - val_loss: 0.2721\n",
      "Epoch 90/100\n",
      "18/18 [==============================] - 9s 490ms/step - loss: 0.3687 - val_loss: 0.2716\n",
      "Epoch 91/100\n",
      "18/18 [==============================] - 10s 535ms/step - loss: 0.3690 - val_loss: 0.2745\n",
      "Epoch 92/100\n",
      "18/18 [==============================] - 7s 369ms/step - loss: 0.3711 - val_loss: 0.2736\n",
      "Epoch 93/100\n",
      "18/18 [==============================] - 6s 360ms/step - loss: 0.3794 - val_loss: 0.2807\n",
      "Epoch 94/100\n",
      "18/18 [==============================] - 9s 498ms/step - loss: 0.3720 - val_loss: 0.2811\n",
      "Epoch 95/100\n",
      "18/18 [==============================] - 7s 384ms/step - loss: 0.3697 - val_loss: 0.2807\n",
      "Epoch 96/100\n",
      "18/18 [==============================] - 9s 528ms/step - loss: 0.3718 - val_loss: 0.2733\n",
      "Epoch 97/100\n",
      "18/18 [==============================] - 8s 417ms/step - loss: 0.3634 - val_loss: 0.2743\n",
      "Epoch 98/100\n",
      "18/18 [==============================] - 6s 333ms/step - loss: 0.3724 - val_loss: 0.2761\n",
      "Epoch 99/100\n",
      "18/18 [==============================] - 6s 360ms/step - loss: 0.3656 - val_loss: 0.2799\n",
      "Epoch 100/100\n",
      "18/18 [==============================] - 6s 359ms/step - loss: 0.3656 - val_loss: 0.2741\n"
     ]
    },
    {
     "data": {
      "text/plain": [
       "<tensorflow.python.keras.callbacks.History at 0x20e24fefee0>"
      ]
     },
     "execution_count": 12,
     "metadata": {},
     "output_type": "execute_result"
    }
   ],
   "source": [
    "encoder.fit(x_train, y_train,\n",
    "                epochs=100,\n",
    "                batch_size=32,\n",
    "                shuffle=True,\n",
    "                validation_data=(x_test, y_test))"
   ]
  },
  {
   "cell_type": "code",
   "execution_count": 34,
   "metadata": {},
   "outputs": [
    {
     "data": {
      "image/png": "[encoded data removed]",
      "text/plain": [
       "<Figure size 432x288 with 1 Axes>"
      ]
     },
     "metadata": {
      "needs_background": "light"
     },
     "output_type": "display_data"
    }
   ],
   "source": [
    "sr=22050\n",
    "focus = 500\n",
    "plot_stft(x_train[focus].reshape(1025, 22))"
   ]
  },
  {
   "cell_type": "code",
   "execution_count": 35,
   "metadata": {},
   "outputs": [
    {
     "data": {
      "image/png": "[encoded data removed]",
      "text/plain": [
       "<Figure size 432x288 with 1 Axes>"
      ]
     },
     "metadata": {
      "needs_background": "light"
     },
     "output_type": "display_data"
    }
   ],
   "source": [
    "plot_stft(encoder.predict(x_train)[focus].reshape(1025, 88))"
   ]
  },
  {
   "cell_type": "code",
   "execution_count": 25,
   "metadata": {},
   "outputs": [],
   "source": [
    "# out = encoder.predict(x_train)[focus].reshape(1025, 88)\n",
    "# out = out * 80 - 80\n",
    "#out = librosa.db_to_amplitude(out)\n",
    "oregano_out = librosa.istft(librosa.db_to_amplitude(encoder.predict(x_train)[focus].reshape(1025, 88)[:1022, :] * 80 - 80) * 300)\n",
    "\n",
    "# oregano_out = y_train[focus].reshape(1025, 88)\n",
    "# oregano_out = oregano_out * 80 - 80\n",
    "#oregano_out = librosa.db_to_amplitude(oregano_out)\n",
    "oregano_out = librosa.istft(librosa.db_to_amplitude(y_train[focus].reshape(1025, 88)[:1022, :] * 80 - 80) * 300)\n"
   ]
  },
  {
   "cell_type": "code",
   "execution_count": 26,
   "metadata": {},
   "outputs": [],
   "source": [
    "sf.write('oregano.wav', oregano_out, 22050)\n",
    "sf.write('insane.wav', librosa.istft(out), 22050)"
   ]
  }
 ],
 "metadata": {
  "kernelspec": {
   "display_name": "Python 3",
   "language": "python",
   "name": "python3"
  },
  "language_info": {
   "codemirror_mode": {
    "name": "ipython",
    "version": 3
   },
   "file_extension": ".py",
   "mimetype": "text/x-python",
   "name": "python",
   "nbconvert_exporter": "python",
   "pygments_lexer": "ipython3",
   "version": "3.8.3"
  }
 },
 "nbformat": 4,
 "nbformat_minor": 4
}
