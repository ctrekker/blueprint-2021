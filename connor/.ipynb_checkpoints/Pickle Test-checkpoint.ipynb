{
 "cells": [
  {
   "cell_type": "code",
   "execution_count": 3,
   "metadata": {},
   "outputs": [],
   "source": [
    "import pickle\n",
    "import numpy as np"
   ]
  },
  {
   "cell_type": "code",
   "execution_count": 12,
   "metadata": {},
   "outputs": [
    {
     "data": {
      "text/plain": [
       "array([[-0.64649092,  1.83479374,  2.0283964 , ...,  1.04535361,\n",
       "        -0.32053906,  0.8639561 ],\n",
       "       [-0.25318472, -1.32591132, -1.88517734, ...,  0.46600985,\n",
       "         0.93122546,  0.58658716],\n",
       "       [-0.1984652 , -1.34079661,  1.03514694, ...,  0.80448015,\n",
       "         0.36502283, -0.11387971],\n",
       "       ...,\n",
       "       [ 1.04720432,  0.32330176,  0.69760513, ..., -0.99931344,\n",
       "         1.01888938, -0.37084625],\n",
       "       [ 0.82816672, -0.82194225, -0.76510361, ..., -0.5463971 ,\n",
       "         1.26640021,  1.1545767 ],\n",
       "       [-1.92711119,  0.1108374 , -2.3681235 , ..., -0.95617513,\n",
       "         0.35698866, -0.44172413]])"
      ]
     },
     "execution_count": 12,
     "metadata": {},
     "output_type": "execute_result"
    }
   ],
   "source": [
    "with open('rand.bin', 'wb') as io:\n",
    "    b = np.random.randn(1000, 1000)\n",
    "    pickle.dump(b, io)\n",
    "b"
   ]
  },
  {
   "cell_type": "code",
   "execution_count": 13,
   "metadata": {},
   "outputs": [
    {
     "data": {
      "text/plain": [
       "array([[-0.64649092,  1.83479374,  2.0283964 , ...,  1.04535361,\n",
       "        -0.32053906,  0.8639561 ],\n",
       "       [-0.25318472, -1.32591132, -1.88517734, ...,  0.46600985,\n",
       "         0.93122546,  0.58658716],\n",
       "       [-0.1984652 , -1.34079661,  1.03514694, ...,  0.80448015,\n",
       "         0.36502283, -0.11387971],\n",
       "       ...,\n",
       "       [ 1.04720432,  0.32330176,  0.69760513, ..., -0.99931344,\n",
       "         1.01888938, -0.37084625],\n",
       "       [ 0.82816672, -0.82194225, -0.76510361, ..., -0.5463971 ,\n",
       "         1.26640021,  1.1545767 ],\n",
       "       [-1.92711119,  0.1108374 , -2.3681235 , ..., -0.95617513,\n",
       "         0.35698866, -0.44172413]])"
      ]
     },
     "execution_count": 13,
     "metadata": {},
     "output_type": "execute_result"
    }
   ],
   "source": [
    "a = pickle.load(open('rand.bin', 'rb'))\n",
    "a"
   ]
  },
  {
   "cell_type": "code",
   "execution_count": 14,
   "metadata": {},
   "outputs": [
    {
     "data": {
      "text/plain": [
       "array([[ True,  True,  True, ...,  True,  True,  True],\n",
       "       [ True,  True,  True, ...,  True,  True,  True],\n",
       "       [ True,  True,  True, ...,  True,  True,  True],\n",
       "       ...,\n",
       "       [ True,  True,  True, ...,  True,  True,  True],\n",
       "       [ True,  True,  True, ...,  True,  True,  True],\n",
       "       [ True,  True,  True, ...,  True,  True,  True]])"
      ]
     },
     "execution_count": 14,
     "metadata": {},
     "output_type": "execute_result"
    }
   ],
   "source": [
    "a == b"
   ]
  }
 ],
 "metadata": {
  "kernelspec": {
   "display_name": "Python 3",
   "language": "python",
   "name": "python3"
  },
  "language_info": {
   "codemirror_mode": {
    "name": "ipython",
    "version": 3
   },
   "file_extension": ".py",
   "mimetype": "text/x-python",
   "name": "python",
   "nbconvert_exporter": "python",
   "pygments_lexer": "ipython3",
   "version": "3.6.8"
  }
 },
 "nbformat": 4,
 "nbformat_minor": 4
}
